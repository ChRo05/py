{
  "nbformat": 4,
  "nbformat_minor": 0,
  "metadata": {
    "colab": {
      "provenance": [],
      "authorship_tag": "ABX9TyO8tFOf0yVLWbjgQglF65hp",
      "include_colab_link": true
    },
    "kernelspec": {
      "name": "python3",
      "display_name": "Python 3"
    },
    "language_info": {
      "name": "python"
    }
  },
  "cells": [
    {
      "cell_type": "markdown",
      "metadata": {
        "id": "view-in-github",
        "colab_type": "text"
      },
      "source": [
        "<a href=\"https://colab.research.google.com/github/ChRo05/py/blob/main/%E6%BC%94%E7%BF%92%E5%95%8F%E9%A1%8C.ipynb\" target=\"_parent\"><img src=\"https://colab.research.google.com/assets/colab-badge.svg\" alt=\"Open In Colab\"/></a>"
      ]
    },
    {
      "cell_type": "code",
      "execution_count": 13,
      "metadata": {
        "id": "MqcIBH6HhS8c"
      },
      "outputs": [],
      "source": [
        "#### 問１．変数xと変数yを使って、xをyで割った余りをzという名前の変数に代入してください。　※回答は1行で書くこと\n",
        "\n",
        "x=\"78\"\n",
        "y=\"9\"\n"
      ]
    },
    {
      "cell_type": "code",
      "source": [
        "z=int(x)%int(y)"
      ],
      "metadata": {
        "id": "V3mRUKGghunj"
      },
      "execution_count": 5,
      "outputs": []
    },
    {
      "cell_type": "code",
      "source": [
        "#### 問２．x,y,zを使って、「78を9で割った余りは6です。」という文字列をprintしてください。　※回答は1行で書くこと\n",
        "print(x+\"を\"+y+\"で割った余りは\"+str(z)+\"です\")"
      ],
      "metadata": {
        "colab": {
          "base_uri": "https://localhost:8080/"
        },
        "id": "l4JJ5vIsjAYd",
        "outputId": "3dd55b01-4c9d-41bf-bd1f-efe3f489f05b"
      },
      "execution_count": 15,
      "outputs": [
        {
          "output_type": "stream",
          "name": "stdout",
          "text": [
            "78を9で割った余りは6です\n"
          ]
        }
      ]
    },
    {
      "cell_type": "code",
      "source": [
        "#### 問２．x,y,zを使って、「78を9で割った余りは6です。」という文字列をprintしてください。　※回答は1行で書くこと\n",
        "print(\"{}を{}で割った余りは{}です\".format(x,y,z))"
      ],
      "metadata": {
        "colab": {
          "base_uri": "https://localhost:8080/"
        },
        "id": "0YxtleeUk7ij",
        "outputId": "992d611f-fbcf-415e-f374-078b0d4c685e"
      },
      "execution_count": 16,
      "outputs": [
        {
          "output_type": "stream",
          "name": "stdout",
          "text": [
            "78を9で割った余りは6です\n"
          ]
        }
      ]
    },
    {
      "cell_type": "code",
      "source": [
        "#### 問３．list_aから、6と10をそれぞれ抽出してください。\n",
        "list_a = [1,2,3,4,5,6,7,8,9,10]\n",
        "list_a\n",
        "print(list_a[5])\n",
        "print(list_a[-1])"
      ],
      "metadata": {
        "colab": {
          "base_uri": "https://localhost:8080/"
        },
        "id": "dyD0u_DmleKS",
        "outputId": "366dc204-4ee9-4856-f907-27208ec44f11"
      },
      "execution_count": 19,
      "outputs": [
        {
          "output_type": "stream",
          "name": "stdout",
          "text": [
            "6\n",
            "10\n"
          ]
        }
      ]
    },
    {
      "cell_type": "code",
      "source": [
        "#### 問４．list_aの最後に、11を追加してください。\n",
        "list_a.append(11)\n",
        "print(list_a)"
      ],
      "metadata": {
        "colab": {
          "base_uri": "https://localhost:8080/"
        },
        "id": "at8o8Hngl3wy",
        "outputId": "47bfce74-1598-4483-ec35-b4f8d4ea43b0"
      },
      "execution_count": 21,
      "outputs": [
        {
          "output_type": "stream",
          "name": "stdout",
          "text": [
            "[1, 2, 3, 4, 5, 6, 7, 8, 9, 10, 11]\n"
          ]
        }
      ]
    },
    {
      "cell_type": "code",
      "source": [
        "#### 問５．for文を使って、list_aの各要素を2倍したlist_bを作成してください\n",
        "list_b=[]\n",
        "for i in list_a:\n",
        "  list_b.append(i*2)\n",
        "  #print(list_b)"
      ],
      "metadata": {
        "id": "a390aU8ImEgy"
      },
      "execution_count": 25,
      "outputs": []
    },
    {
      "cell_type": "code",
      "source": [
        "print(list_b)"
      ],
      "metadata": {
        "colab": {
          "base_uri": "https://localhost:8080/"
        },
        "id": "gtrf6yjxm7oZ",
        "outputId": "6c2ad4f8-d077-4278-9ee1-87df0e22787c"
      },
      "execution_count": 26,
      "outputs": [
        {
          "output_type": "stream",
          "name": "stdout",
          "text": [
            "[2, 4, 6, 8, 10, 12, 14, 16, 18, 20, 22]\n"
          ]
        }
      ]
    },
    {
      "cell_type": "code",
      "source": [
        "#### 問６．for文とif文を使って、list_bから3の倍数のみを抽出したlist_cを作成してください\n",
        "list_c=[]\n",
        "for i in list_b:\n",
        "  if i%3==0:\n",
        "    list_c.append(i)"
      ],
      "metadata": {
        "id": "v151U5VWmMCh"
      },
      "execution_count": 33,
      "outputs": []
    },
    {
      "cell_type": "code",
      "source": [
        "print(list_c)"
      ],
      "metadata": {
        "colab": {
          "base_uri": "https://localhost:8080/"
        },
        "id": "o6f4DxWSnlEh",
        "outputId": "6ccfa4d4-1050-474c-c07b-1f89c74383ee"
      },
      "execution_count": 35,
      "outputs": [
        {
          "output_type": "stream",
          "name": "stdout",
          "text": [
            "[6, 12, 18]\n"
          ]
        }
      ]
    },
    {
      "cell_type": "code",
      "source": [
        "# #### 問７．list_cとenumerateを使って、  2つの要素インデックスと要素\n",
        "# 　　　0番目の要素は6です。  \n",
        "# 　　　1番目の要素は12です。  \n",
        "# 　　　2番目の要素は18です。  \n",
        "# #### 　　　とprintしてください。\n",
        "for i,j in enumerate(list_c):\n",
        "  print(\"{})番目の要素は{}です\".format(i,j))\n"
      ],
      "metadata": {
        "colab": {
          "base_uri": "https://localhost:8080/"
        },
        "id": "vcjS4dGwn-I3",
        "outputId": "3f90d0c7-2c2c-4433-cded-4a2e344cbcb1"
      },
      "execution_count": 36,
      "outputs": [
        {
          "output_type": "stream",
          "name": "stdout",
          "text": [
            "0)番目の要素は6です\n",
            "1)番目の要素は12です\n",
            "2)番目の要素は18です\n"
          ]
        }
      ]
    }
  ]
}