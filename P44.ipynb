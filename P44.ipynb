{
  "nbformat": 4,
  "nbformat_minor": 0,
  "metadata": {
    "colab": {
      "name": "Untitled1.ipynb",
      "provenance": [],
      "authorship_tag": "ABX9TyOu1DUw6ebbRuAO74+BqyR/",
      "include_colab_link": true
    },
    "kernelspec": {
      "name": "python3",
      "display_name": "Python 3"
    },
    "language_info": {
      "name": "python"
    }
  },
  "cells": [
    {
      "cell_type": "markdown",
      "metadata": {
        "id": "view-in-github",
        "colab_type": "text"
      },
      "source": [
        "<a href=\"https://colab.research.google.com/github/ChRo05/py/blob/main/P44.ipynb\" target=\"_parent\"><img src=\"https://colab.research.google.com/assets/colab-badge.svg\" alt=\"Open In Colab\"/></a>"
      ]
    },
    {
      "cell_type": "code",
      "execution_count": null,
      "metadata": {
        "id": "thnp8LEGFmRV"
      },
      "outputs": [],
      "source": [
        "import openpyxl as excel\n",
        "\n",
        "#excelファイルを開く\n",
        "book = excel.load_workbook(\"hi.xlsx\")\n",
        "\n",
        "#先頭のWSを取り出す\n",
        "sheet = book.worksheets[0]\n",
        "\n",
        "#A1のセルの値を得る\n",
        "cell = sheet[\"A1\"]\n",
        "\n",
        "#読み出した結果を画面に入力\n",
        "print(cell.value)"
      ]
    }
  ]
}