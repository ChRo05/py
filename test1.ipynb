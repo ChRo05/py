{
  "nbformat": 4,
  "nbformat_minor": 0,
  "metadata": {
    "colab": {
      "name": "test1.ipynb",
      "provenance": [],
      "authorship_tag": "ABX9TyO0XdnXRH9mF+3TYb+2E3iD",
      "include_colab_link": true
    },
    "kernelspec": {
      "name": "python3",
      "display_name": "Python 3"
    },
    "language_info": {
      "name": "python"
    }
  },
  "cells": [
    {
      "cell_type": "markdown",
      "metadata": {
        "id": "view-in-github",
        "colab_type": "text"
      },
      "source": [
        "<a href=\"https://colab.research.google.com/github/ChRo05/py/blob/main/test1.ipynb\" target=\"_parent\"><img src=\"https://colab.research.google.com/assets/colab-badge.svg\" alt=\"Open In Colab\"/></a>"
      ]
    },
    {
      "cell_type": "code",
      "execution_count": null,
      "metadata": {
        "id": "0IjNz5LcTQJ2"
      },
      "outputs": [],
      "source": [
        "#ライブラリをインポート\n",
        "import openpyxl as px\n",
        "book = px.Workbook()\n",
        "sheet = book.active\n",
        "\n",
        "#値を入力 \n",
        "sheet[\"A2\"].value = \"test\"\n",
        "sheet[\"B1\"].value = 5\n",
        "\n",
        "#ブックを\"サンプル2\"という名前で保存\n",
        "book.save(\"sample2.xlsx\")\n",
        "\n",
        "#googlecolabからファイルをインポート\n",
        "from google.colab import files\n",
        "\n",
        "#D/Lの\"サンプル2\"というファイルを開く\n",
        "files.download('sample2.xlsx')"
      ]
    }
  ]
}