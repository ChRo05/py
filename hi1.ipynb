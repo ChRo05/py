{
  "nbformat": 4,
  "nbformat_minor": 0,
  "metadata": {
    "colab": {
      "name": "Untitled1.ipynb",
      "provenance": [],
      "authorship_tag": "ABX9TyN70wECZWgJQFip9ZkeAS47",
      "include_colab_link": true
    },
    "kernelspec": {
      "name": "python3",
      "display_name": "Python 3"
    },
    "language_info": {
      "name": "python"
    }
  },
  "cells": [
    {
      "cell_type": "markdown",
      "metadata": {
        "id": "view-in-github",
        "colab_type": "text"
      },
      "source": [
        "<a href=\"https://colab.research.google.com/github/ChRo05/py/blob/main/hi1.ipynb\" target=\"_parent\"><img src=\"https://colab.research.google.com/assets/colab-badge.svg\" alt=\"Open In Colab\"/></a>"
      ]
    },
    {
      "cell_type": "code",
      "execution_count": 2,
      "metadata": {
        "id": "Kc-PRJRIDWOg"
      },
      "outputs": [],
      "source": [
        "import openpyxl as excel\n",
        "\n",
        "book = excel.Workbook()\n",
        "\n",
        "sheet = book.active\n",
        "\n",
        "sheet[\"A1\"] = \"こんにちは\"\n",
        "\n",
        "book.save(\"hi.xlsx\")"
      ]
    }
  ]
}