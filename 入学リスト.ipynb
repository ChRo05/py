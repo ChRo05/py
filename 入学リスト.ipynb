{
  "nbformat": 4,
  "nbformat_minor": 0,
  "metadata": {
    "colab": {
      "name": "入学リスト.ipynb",
      "provenance": [],
      "collapsed_sections": [],
      "authorship_tag": "ABX9TyOBR01Iqn8mDhJvM9ki7IEg",
      "include_colab_link": true
    },
    "kernelspec": {
      "name": "python3",
      "display_name": "Python 3"
    },
    "language_info": {
      "name": "python"
    }
  },
  "cells": [
    {
      "cell_type": "markdown",
      "metadata": {
        "id": "view-in-github",
        "colab_type": "text"
      },
      "source": [
        "<a href=\"https://colab.research.google.com/github/ChRo05/py/blob/main/%E5%85%A5%E5%AD%A6%E3%83%AA%E3%82%B9%E3%83%88.ipynb\" target=\"_parent\"><img src=\"https://colab.research.google.com/assets/colab-badge.svg\" alt=\"Open In Colab\"/></a>"
      ]
    },
    {
      "cell_type": "code",
      "execution_count": null,
      "metadata": {
        "id": "s2pl9FrAyzKb"
      },
      "outputs": [],
      "source": [
        ""
      ]
    },
    {
      "cell_type": "code",
      "execution_count": 2,
      "metadata": {
        "id": "s1UUm0eDuuE6"
      },
      "outputs": [],
      "source": [
        "import openpyxl as excel\n",
        "import datetime\n",
        "\n",
        "# 新規wbを作成しwsを得る\n",
        "book = excel.Workbook()\n",
        "sheet = book.active\n",
        "\n",
        "# 開始年を設定\n",
        "base_year = datetime.date.today().year - 10\n",
        "\n",
        "# 連続でセルに値を設定する\n",
        "for i in range(51):\n",
        "    # 設定する値を計算\n",
        "    year = base_year + i # 満年齢\n",
        "    s1 = year - 7 # 4/2以降に生まれた人\n",
        "    s2 = year - 6 # 早生まれの人\n",
        "    sf = \"{}年4/2～{}年に生まれた人\".format(s1,s2)\n",
        "    # セルに値を設定\n",
        "    sheet.cell(i+1,1,value=str(year)+\"年度\")\n",
        "    sheet.cell(i+1,2,value=sf)\n",
        "    \n",
        "# ファイルを保存\n",
        "book.save(\"nyugaku_list.xlsx\")"
      ]
    }
  ]
}