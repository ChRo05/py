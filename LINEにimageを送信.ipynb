{
  "nbformat": 4,
  "nbformat_minor": 0,
  "metadata": {
    "colab": {
      "name": "LINEにimageを送信.ipynb",
      "provenance": [],
      "authorship_tag": "ABX9TyPw6z2fP7OvhTnHT1ODzIjp",
      "include_colab_link": true
    },
    "kernelspec": {
      "name": "python3",
      "display_name": "Python 3"
    },
    "language_info": {
      "name": "python"
    }
  },
  "cells": [
    {
      "cell_type": "markdown",
      "metadata": {
        "id": "view-in-github",
        "colab_type": "text"
      },
      "source": [
        "<a href=\"https://colab.research.google.com/github/ChRo05/py/blob/main/LINE%E3%81%ABimage%E3%82%92%E9%80%81%E4%BF%A1.ipynb\" target=\"_parent\"><img src=\"https://colab.research.google.com/assets/colab-badge.svg\" alt=\"Open In Colab\"/></a>"
      ]
    },
    {
      "cell_type": "code",
      "execution_count": null,
      "metadata": {
        "id": "_I48cbLDE_j2"
      },
      "outputs": [],
      "source": [
        "import requests\n",
        "\n",
        "#アクセストークンを以下に設定\n",
        "acc_token = \"tAS4wQkGGvJ4eJwJ23gTkkN61VdRMMagvlCPsuM87Ah\"\n",
        "\n",
        "#画像ファイルのパスを指定\n",
        "img_file = \"R:\\★R３年度まで\\05_Koutoubu\\専攻科\\教員\\菊池\\スタンプ\\２匹.png\"\n",
        "\n",
        "def send_line(msg, image_file):\n",
        "      # サーバーに送るパラメータを用意\n",
        "      url = \"https://notify-api.line.me/api/notify\"\n",
        "      headers = {\"Authorization\":\"Bearer\" + acc_token}\n",
        "      paylod = {\"message\":msg}\n",
        "\n",
        "      # 画像を読み込み\n",
        "      with open(image_file, 'rb') as fp:\n",
        "        files = {'imageFile': fp}\n",
        "\n",
        "        # サーバーへ送信\n",
        "        requests.post(url,headers=headers,params=paylod,params=paylod, files=files)\n",
        "\n",
        "if __name__ == '__main__':\n",
        "      # メッセージを送信\n",
        "      send_line(\"python～こんにちは！\", image_file)\n",
        "      print(\"ok\")"
      ]
    }
  ]
}