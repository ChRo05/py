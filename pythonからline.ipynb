{
  "nbformat": 4,
  "nbformat_minor": 0,
  "metadata": {
    "colab": {
      "name": "pythonからline.ipynb",
      "provenance": [],
      "authorship_tag": "ABX9TyMbb2LxjdkznylLtV5k9WBN",
      "include_colab_link": true
    },
    "kernelspec": {
      "name": "python3",
      "display_name": "Python 3"
    },
    "language_info": {
      "name": "python"
    }
  },
  "cells": [
    {
      "cell_type": "markdown",
      "metadata": {
        "id": "view-in-github",
        "colab_type": "text"
      },
      "source": [
        "<a href=\"https://colab.research.google.com/github/ChRo05/py/blob/main/python%E3%81%8B%E3%82%89line.ipynb\" target=\"_parent\"><img src=\"https://colab.research.google.com/assets/colab-badge.svg\" alt=\"Open In Colab\"/></a>"
      ]
    },
    {
      "cell_type": "code",
      "execution_count": null,
      "metadata": {
        "id": "Y7IKoD4dBNom"
      },
      "outputs": [],
      "source": [
        "import requests\n",
        "\n",
        "#アクセストークンを以下に設定\n",
        "acc_token = \"tAS4wQkGGvJ4eJwJ23gTkkN61VdRMMagvlCPsuM87Ah\"\n",
        "\n",
        "def send_line(msg):\n",
        "      # サーバーに送るパラメータを用意\n",
        "      url = \"https://notify-api.line.me/api/notify\"\n",
        "      headers = {\"Authorization\":\"Bearer\" + acc_token}\n",
        "      paylod = {\"message\":msg}\n",
        "      requests.post(url,headers=headers,params=paylod)\n",
        "\n",
        "  if __name__ == \"__main__\":\n",
        "      # メッセージを送信\n",
        "    send_line(\"python～こんにちは！\")\n",
        "    print(\"ok\")"
      ]
    }
  ]
}