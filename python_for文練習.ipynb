{
  "nbformat": 4,
  "nbformat_minor": 0,
  "metadata": {
    "colab": {
      "name": "python for文練習.ipynb",
      "provenance": [],
      "authorship_tag": "ABX9TyPgdCRetMAMKtD7AhxmhwdL",
      "include_colab_link": true
    },
    "kernelspec": {
      "name": "python3",
      "display_name": "Python 3"
    },
    "language_info": {
      "name": "python"
    }
  },
  "cells": [
    {
      "cell_type": "markdown",
      "metadata": {
        "id": "view-in-github",
        "colab_type": "text"
      },
      "source": [
        "<a href=\"https://colab.research.google.com/github/ChRo05/py/blob/main/python_for%E6%96%87%E7%B7%B4%E7%BF%92.ipynb\" target=\"_parent\"><img src=\"https://colab.research.google.com/assets/colab-badge.svg\" alt=\"Open In Colab\"/></a>"
      ]
    },
    {
      "cell_type": "code",
      "source": [
        "print(\"hoge\" * 3)  # hogehogehoge\n",
        "print(\"a\" * 3)  # aaa"
      ],
      "metadata": {
        "colab": {
          "base_uri": "https://localhost:8080/"
        },
        "id": "-4w1wT-LnFV-",
        "outputId": "5326e3dd-3e26-45e0-a74d-eada5e23224c"
      },
      "execution_count": 7,
      "outputs": [
        {
          "output_type": "stream",
          "name": "stdout",
          "text": [
            "hogehogehoge\n",
            "aaa\n"
          ]
        }
      ]
    },
    {
      "cell_type": "code",
      "source": [
        "n = int(input(\"ツリーの段数を入力してください\"))\n",
        "\n",
        "for i in range(1, n + 1):\n",
        "    print(\" \" * (n - i), end=\"\")  # \n",
        "\n",
        "    for j in range(1, i + 1):\n",
        "        print(\"*\", end=\" \")\n",
        "    print(\"\", end=\"\\n\")"
      ],
      "metadata": {
        "colab": {
          "base_uri": "https://localhost:8080/"
        },
        "id": "hymC_P0QnJRa",
        "outputId": "4271f535-4f3c-48c5-c773-35f6202ebd3b"
      },
      "execution_count": 8,
      "outputs": [
        {
          "output_type": "stream",
          "name": "stdout",
          "text": [
            "ツリーの段数を入力してください10\n",
            "         * \n",
            "        * * \n",
            "       * * * \n",
            "      * * * * \n",
            "     * * * * * \n",
            "    * * * * * * \n",
            "   * * * * * * * \n",
            "  * * * * * * * * \n",
            " * * * * * * * * * \n",
            "* * * * * * * * * * \n"
          ]
        }
      ]
    },
    {
      "cell_type": "code",
      "source": [
        "n = int(input(\"ツリーの段数を入力してください\"))\n",
        "\n",
        "for i in range(1, n + 1):\n",
        "    print(\" \" * (n - i) + \"* \" * i)"
      ],
      "metadata": {
        "colab": {
          "base_uri": "https://localhost:8080/"
        },
        "id": "fMz6qM8ZnQJb",
        "outputId": "87bf9729-282c-4671-d586-96fb351e1205"
      },
      "execution_count": 9,
      "outputs": [
        {
          "output_type": "stream",
          "name": "stdout",
          "text": [
            "ツリーの段数を入力してください5\n",
            "    * \n",
            "   * * \n",
            "  * * * \n",
            " * * * * \n",
            "* * * * * \n"
          ]
        }
      ]
    },
    {
      "cell_type": "code",
      "source": [
        "n = int(input(\"ツリーの段数を入力してください\"))\n",
        "\n",
        "for i in range(1, n + 1):\n",
        "    print(\" \" * (n - i) + \"★ \" * i)"
      ],
      "metadata": {
        "colab": {
          "base_uri": "https://localhost:8080/"
        },
        "id": "X4K8i_ZooOqC",
        "outputId": "43538fa5-6b8b-4889-b1e9-dce070e55757"
      },
      "execution_count": 11,
      "outputs": [
        {
          "output_type": "stream",
          "name": "stdout",
          "text": [
            "ツリーの段数を入力してください2\n",
            " ★ \n",
            "★ ★ \n"
          ]
        }
      ]
    },
    {
      "cell_type": "code",
      "source": [
        "for a in range(10):\n",
        "  for b in range(10):\n",
        "    print(\"■\",end=\"\")\n",
        "  print(\"\\n\",end=\"\")"
      ],
      "metadata": {
        "colab": {
          "base_uri": "https://localhost:8080/"
        },
        "id": "tQzzwLzHpZTc",
        "outputId": "8e1c93eb-a586-41c3-f28a-d2e0331cac52"
      },
      "execution_count": 13,
      "outputs": [
        {
          "output_type": "stream",
          "name": "stdout",
          "text": [
            "■■■■■■■■■■\n",
            "■■■■■■■■■■\n",
            "■■■■■■■■■■\n",
            "■■■■■■■■■■\n",
            "■■■■■■■■■■\n",
            "■■■■■■■■■■\n",
            "■■■■■■■■■■\n",
            "■■■■■■■■■■\n",
            "■■■■■■■■■■\n",
            "■■■■■■■■■■\n"
          ]
        }
      ]
    },
    {
      "cell_type": "code",
      "source": [
        "for a in range(10):\n",
        "  for b in range(a+1):\n",
        "    print(\"■\",end=\"\")\n",
        "  print(\"\\n\",end=\"\")"
      ],
      "metadata": {
        "colab": {
          "base_uri": "https://localhost:8080/"
        },
        "id": "2LAKREjq4t1g",
        "outputId": "59039b02-e005-46f2-ac3c-99289e40f68e"
      },
      "execution_count": 14,
      "outputs": [
        {
          "output_type": "stream",
          "name": "stdout",
          "text": [
            "■\n",
            "■■\n",
            "■■■\n",
            "■■■■\n",
            "■■■■■\n",
            "■■■■■■\n",
            "■■■■■■■\n",
            "■■■■■■■■\n",
            "■■■■■■■■■\n",
            "■■■■■■■■■■\n"
          ]
        }
      ]
    },
    {
      "cell_type": "code",
      "source": [
        ""
      ],
      "metadata": {
        "id": "RRLQVurX5cx-"
      },
      "execution_count": null,
      "outputs": []
    },
    {
      "cell_type": "code",
      "source": [
        "for a in range(10):\n",
        "  for b in range(10-a):\n",
        "    print(\"■\",end=\"\")\n",
        "  print(\"\\n\",end=\"\")"
      ],
      "metadata": {
        "colab": {
          "base_uri": "https://localhost:8080/"
        },
        "outputId": "4cf8b03d-0647-4524-94aa-59a4fa6e7273",
        "id": "F1A52xBk5dPe"
      },
      "execution_count": 15,
      "outputs": [
        {
          "output_type": "stream",
          "name": "stdout",
          "text": [
            "■■■■■■■■■■\n",
            "■■■■■■■■■\n",
            "■■■■■■■■\n",
            "■■■■■■■\n",
            "■■■■■■\n",
            "■■■■■\n",
            "■■■■\n",
            "■■■\n",
            "■■\n",
            "■\n"
          ]
        }
      ]
    }
  ]
}