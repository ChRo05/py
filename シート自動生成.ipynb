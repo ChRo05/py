{
  "nbformat": 4,
  "nbformat_minor": 0,
  "metadata": {
    "colab": {
      "name": "シート自動生成.ipynb",
      "provenance": [],
      "authorship_tag": "ABX9TyPmvklieBH/BCMd4gdoLtz7",
      "include_colab_link": true
    },
    "kernelspec": {
      "name": "python3",
      "display_name": "Python 3"
    },
    "language_info": {
      "name": "python"
    }
  },
  "cells": [
    {
      "cell_type": "markdown",
      "metadata": {
        "id": "view-in-github",
        "colab_type": "text"
      },
      "source": [
        "<a href=\"https://colab.research.google.com/github/ChRo05/py/blob/main/%E3%82%B7%E3%83%BC%E3%83%88%E8%87%AA%E5%8B%95%E7%94%9F%E6%88%90.ipynb\" target=\"_parent\"><img src=\"https://colab.research.google.com/assets/colab-badge.svg\" alt=\"Open In Colab\"/></a>"
      ]
    },
    {
      "cell_type": "code",
      "execution_count": null,
      "metadata": {
        "id": "s1UUm0eDuuE6"
      },
      "outputs": [],
      "source": [
        ""
      ]
    }
  ]
}